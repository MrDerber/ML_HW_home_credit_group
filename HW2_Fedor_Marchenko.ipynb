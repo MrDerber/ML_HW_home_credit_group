{
 "cells": [
  {
   "cell_type": "code",
   "execution_count": 1,
   "id": "6f1b079e",
   "metadata": {},
   "outputs": [],
   "source": [
    "import pandas as pd\n",
    "import matplotlib.pyplot as plt\n",
    "from sklearn.model_selection import KFold\n",
    "from sklearn.metrics import roc_auc_score, log_loss\n",
    "from sklearn.linear_model import LogisticRegression\n",
    "from sklearn.preprocessing import StandardScaler\n",
    "import numpy as np"
   ]
  },
  {
   "cell_type": "code",
   "execution_count": 2,
   "id": "d2d52165",
   "metadata": {},
   "outputs": [],
   "source": [
    "#Функция кросс-валидации\n",
    "def cross_validation(train, features, target='TARGET', model=LogisticRegression(random_state=0)):\n",
    "    \n",
    "    auc_list = []\n",
    "\n",
    "    kf = KFold(n_splits=5, shuffle = True)\n",
    "    for i, (train_index, val_index) in enumerate(kf.split(train)):\n",
    "        train_part = train.loc[train_index, : ]\n",
    "        val_part = train.loc[val_index,:  ]\n",
    "\n",
    "        model.fit( X=train_part[features], y = train_part[target] )\n",
    "        val_prediction = model.predict_proba( val_part[features] )\n",
    "\n",
    "        auc_val = roc_auc_score(val_part[target], val_prediction[:, 1])\n",
    "\n",
    "        auc_list.append(auc_val)\n",
    "        print( f'Fold {i}: AUC: {auc_val}')\n",
    "\n",
    "    print( f'AV_AUC = {np.mean(auc_list)} '  )\n",
    "    \n",
    "    return np.mean(auc_list)\n",
    "\n",
    "#Функция для создания csv файла для сабмишшна\n",
    "def prepare_submission(submission_name, train, test, features, target='TARGET', model=LogisticRegression(random_state=0)):\n",
    "    test_prediction = model.fit(train[features], train[target]).predict_proba(test[features])\n",
    "    sample_submission = pd.read_csv('sample_submission.csv')\n",
    "    sample_submission['TARGET']= test_prediction[:, 1]\n",
    "    sample_submission.to_csv(submission_name, index = False)"
   ]
  },
  {
   "cell_type": "code",
   "execution_count": 3,
   "id": "9dd118a6",
   "metadata": {},
   "outputs": [],
   "source": [
    "train = pd.read_csv(\"application_train.csv\")\n",
    "test = pd.read_csv(\"application_test.csv\")"
   ]
  },
  {
   "cell_type": "code",
   "execution_count": 4,
   "id": "ca7db9c5",
   "metadata": {},
   "outputs": [
    {
     "data": {
      "text/plain": [
       "['SK_ID_CURR',\n",
       " 'TARGET',\n",
       " 'NAME_CONTRACT_TYPE',\n",
       " 'CODE_GENDER',\n",
       " 'FLAG_OWN_CAR',\n",
       " 'FLAG_OWN_REALTY',\n",
       " 'CNT_CHILDREN',\n",
       " 'AMT_INCOME_TOTAL',\n",
       " 'AMT_CREDIT',\n",
       " 'AMT_ANNUITY',\n",
       " 'AMT_GOODS_PRICE',\n",
       " 'NAME_TYPE_SUITE',\n",
       " 'NAME_INCOME_TYPE',\n",
       " 'NAME_EDUCATION_TYPE',\n",
       " 'NAME_FAMILY_STATUS',\n",
       " 'NAME_HOUSING_TYPE',\n",
       " 'REGION_POPULATION_RELATIVE',\n",
       " 'DAYS_BIRTH',\n",
       " 'DAYS_EMPLOYED',\n",
       " 'DAYS_REGISTRATION',\n",
       " 'DAYS_ID_PUBLISH',\n",
       " 'OWN_CAR_AGE',\n",
       " 'FLAG_MOBIL',\n",
       " 'FLAG_EMP_PHONE',\n",
       " 'FLAG_WORK_PHONE',\n",
       " 'FLAG_CONT_MOBILE',\n",
       " 'FLAG_PHONE',\n",
       " 'FLAG_EMAIL',\n",
       " 'OCCUPATION_TYPE',\n",
       " 'CNT_FAM_MEMBERS',\n",
       " 'REGION_RATING_CLIENT',\n",
       " 'REGION_RATING_CLIENT_W_CITY',\n",
       " 'WEEKDAY_APPR_PROCESS_START',\n",
       " 'HOUR_APPR_PROCESS_START',\n",
       " 'REG_REGION_NOT_LIVE_REGION',\n",
       " 'REG_REGION_NOT_WORK_REGION',\n",
       " 'LIVE_REGION_NOT_WORK_REGION',\n",
       " 'REG_CITY_NOT_LIVE_CITY',\n",
       " 'REG_CITY_NOT_WORK_CITY',\n",
       " 'LIVE_CITY_NOT_WORK_CITY',\n",
       " 'ORGANIZATION_TYPE',\n",
       " 'EXT_SOURCE_1',\n",
       " 'EXT_SOURCE_2',\n",
       " 'EXT_SOURCE_3',\n",
       " 'APARTMENTS_AVG',\n",
       " 'BASEMENTAREA_AVG',\n",
       " 'YEARS_BEGINEXPLUATATION_AVG',\n",
       " 'YEARS_BUILD_AVG',\n",
       " 'COMMONAREA_AVG',\n",
       " 'ELEVATORS_AVG',\n",
       " 'ENTRANCES_AVG',\n",
       " 'FLOORSMAX_AVG',\n",
       " 'FLOORSMIN_AVG',\n",
       " 'LANDAREA_AVG',\n",
       " 'LIVINGAPARTMENTS_AVG',\n",
       " 'LIVINGAREA_AVG',\n",
       " 'NONLIVINGAPARTMENTS_AVG',\n",
       " 'NONLIVINGAREA_AVG',\n",
       " 'APARTMENTS_MODE',\n",
       " 'BASEMENTAREA_MODE',\n",
       " 'YEARS_BEGINEXPLUATATION_MODE',\n",
       " 'YEARS_BUILD_MODE',\n",
       " 'COMMONAREA_MODE',\n",
       " 'ELEVATORS_MODE',\n",
       " 'ENTRANCES_MODE',\n",
       " 'FLOORSMAX_MODE',\n",
       " 'FLOORSMIN_MODE',\n",
       " 'LANDAREA_MODE',\n",
       " 'LIVINGAPARTMENTS_MODE',\n",
       " 'LIVINGAREA_MODE',\n",
       " 'NONLIVINGAPARTMENTS_MODE',\n",
       " 'NONLIVINGAREA_MODE',\n",
       " 'APARTMENTS_MEDI',\n",
       " 'BASEMENTAREA_MEDI',\n",
       " 'YEARS_BEGINEXPLUATATION_MEDI',\n",
       " 'YEARS_BUILD_MEDI',\n",
       " 'COMMONAREA_MEDI',\n",
       " 'ELEVATORS_MEDI',\n",
       " 'ENTRANCES_MEDI',\n",
       " 'FLOORSMAX_MEDI',\n",
       " 'FLOORSMIN_MEDI',\n",
       " 'LANDAREA_MEDI',\n",
       " 'LIVINGAPARTMENTS_MEDI',\n",
       " 'LIVINGAREA_MEDI',\n",
       " 'NONLIVINGAPARTMENTS_MEDI',\n",
       " 'NONLIVINGAREA_MEDI',\n",
       " 'FONDKAPREMONT_MODE',\n",
       " 'HOUSETYPE_MODE',\n",
       " 'TOTALAREA_MODE',\n",
       " 'WALLSMATERIAL_MODE',\n",
       " 'EMERGENCYSTATE_MODE',\n",
       " 'OBS_30_CNT_SOCIAL_CIRCLE',\n",
       " 'DEF_30_CNT_SOCIAL_CIRCLE',\n",
       " 'OBS_60_CNT_SOCIAL_CIRCLE',\n",
       " 'DEF_60_CNT_SOCIAL_CIRCLE',\n",
       " 'DAYS_LAST_PHONE_CHANGE',\n",
       " 'FLAG_DOCUMENT_2',\n",
       " 'FLAG_DOCUMENT_3',\n",
       " 'FLAG_DOCUMENT_4',\n",
       " 'FLAG_DOCUMENT_5',\n",
       " 'FLAG_DOCUMENT_6',\n",
       " 'FLAG_DOCUMENT_7',\n",
       " 'FLAG_DOCUMENT_8',\n",
       " 'FLAG_DOCUMENT_9',\n",
       " 'FLAG_DOCUMENT_10',\n",
       " 'FLAG_DOCUMENT_11',\n",
       " 'FLAG_DOCUMENT_12',\n",
       " 'FLAG_DOCUMENT_13',\n",
       " 'FLAG_DOCUMENT_14',\n",
       " 'FLAG_DOCUMENT_15',\n",
       " 'FLAG_DOCUMENT_16',\n",
       " 'FLAG_DOCUMENT_17',\n",
       " 'FLAG_DOCUMENT_18',\n",
       " 'FLAG_DOCUMENT_19',\n",
       " 'FLAG_DOCUMENT_20',\n",
       " 'FLAG_DOCUMENT_21',\n",
       " 'AMT_REQ_CREDIT_BUREAU_HOUR',\n",
       " 'AMT_REQ_CREDIT_BUREAU_DAY',\n",
       " 'AMT_REQ_CREDIT_BUREAU_WEEK',\n",
       " 'AMT_REQ_CREDIT_BUREAU_MON',\n",
       " 'AMT_REQ_CREDIT_BUREAU_QRT',\n",
       " 'AMT_REQ_CREDIT_BUREAU_YEAR']"
      ]
     },
     "execution_count": 4,
     "metadata": {},
     "output_type": "execute_result"
    }
   ],
   "source": [
    "train.columns.to_list()"
   ]
  },
  {
   "cell_type": "code",
   "execution_count": 5,
   "id": "4936d68e",
   "metadata": {},
   "outputs": [],
   "source": [
    "#Из всех доступны признаков выберу те, c которыми буду работать в рамках данного задания\n",
    "#['NAME_CONTRACT_TYPE','CODE_GENDER','FLAG_OWN_CAR','FLAG_OWN_REALTY','CNT_CHILDREN','AMT_INCOME_TOTAL','AMT_CREDIT','AMT_ANNUITY','NAME_TYPE_SUITE','NAME_INCOME_TYPE','NAME_EDUCATION_TYPE','NAME_FAMILY_STATUS','NAME_HOUSING_TYPE']"
   ]
  },
  {
   "cell_type": "code",
   "execution_count": 6,
   "id": "69cc4d2f",
   "metadata": {},
   "outputs": [],
   "source": [
    "features = ['NAME_CONTRACT_TYPE','CODE_GENDER','FLAG_OWN_CAR','FLAG_OWN_REALTY','CNT_CHILDREN','AMT_INCOME_TOTAL','AMT_CREDIT','AMT_ANNUITY','NAME_TYPE_SUITE','NAME_INCOME_TYPE','NAME_EDUCATION_TYPE','NAME_FAMILY_STATUS']\n",
    "train = train[['TARGET']+features]\n",
    "test = test[features]"
   ]
  },
  {
   "cell_type": "code",
   "execution_count": null,
   "id": "6f8b4935",
   "metadata": {},
   "outputs": [],
   "source": [
    "#Модель 1\n",
    "#Логистическая модель с фичами ['NAME_CONTRACT_TYPE','CODE_GENDER','FLAG_OWN_CAR','FLAG_OWN_REALTY']"
   ]
  },
  {
   "cell_type": "code",
   "execution_count": 7,
   "id": "af7b3bc6",
   "metadata": {},
   "outputs": [
    {
     "name": "stdout",
     "output_type": "stream",
     "text": [
      "Cash loans         278232\n",
      "Revolving loans     29279\n",
      "Name: NAME_CONTRACT_TYPE, dtype: int64\n",
      "F      202448\n",
      "M      105059\n",
      "XNA         4\n",
      "Name: CODE_GENDER, dtype: int64\n",
      "N    202924\n",
      "Y    104587\n",
      "Name: FLAG_OWN_CAR, dtype: int64\n",
      "Y    213312\n",
      "N     94199\n",
      "Name: FLAG_OWN_REALTY, dtype: int64\n"
     ]
    }
   ],
   "source": [
    "print(train['NAME_CONTRACT_TYPE'].value_counts())\n",
    "print(train['CODE_GENDER'].value_counts())\n",
    "print(train['FLAG_OWN_CAR'].value_counts())\n",
    "print(train['FLAG_OWN_REALTY'].value_counts())"
   ]
  },
  {
   "cell_type": "code",
   "execution_count": 8,
   "id": "8aec0aa9",
   "metadata": {},
   "outputs": [],
   "source": [
    "train['NAME_CONTRACT_TYPE'] = train['NAME_CONTRACT_TYPE'].replace( { 'Cash loans':1,'Revolving loans':0 })\n",
    "test['NAME_CONTRACT_TYPE'] = test['NAME_CONTRACT_TYPE'].replace( { 'Cash loans':1,'Revolving loans':0 } )\n",
    "\n",
    "train['CODE_GENDER'] = train['CODE_GENDER'].replace( { 'F':1,'M':0, 'XNA':-1 } )\n",
    "test['CODE_GENDER'] = test['CODE_GENDER'].replace( { 'F':1,'M':0, 'XNA':-1 } )\n",
    "\n",
    "train['FLAG_OWN_CAR'] = train['FLAG_OWN_CAR'].replace( { 'N':1,'Y':0 } )\n",
    "test['FLAG_OWN_CAR'] = test['FLAG_OWN_CAR'].replace( { 'N':1,'Y':0 } )\n",
    "\n",
    "train['FLAG_OWN_REALTY'] = train['FLAG_OWN_REALTY'].replace( { 'Y':1,'N':0 } )\n",
    "test['FLAG_OWN_REALTY'] = test['FLAG_OWN_REALTY'].replace( { 'Y':1,'N':0 } )"
   ]
  },
  {
   "cell_type": "code",
   "execution_count": 9,
   "id": "e507358b",
   "metadata": {},
   "outputs": [
    {
     "name": "stdout",
     "output_type": "stream",
     "text": [
      "Fold 0: AUC: 0.572105233612949\n",
      "Fold 1: AUC: 0.5666293989537506\n",
      "Fold 2: AUC: 0.5761903727184945\n",
      "Fold 3: AUC: 0.5763621883363609\n",
      "Fold 4: AUC: 0.5770950283540615\n",
      "AV_AUC = 0.5736764443951232 \n"
     ]
    },
    {
     "data": {
      "text/plain": [
       "0.5736764443951232"
      ]
     },
     "execution_count": 9,
     "metadata": {},
     "output_type": "execute_result"
    }
   ],
   "source": [
    "features=['NAME_CONTRACT_TYPE','CODE_GENDER','FLAG_OWN_CAR','FLAG_OWN_REALTY']\n",
    "cross_validation(train=train, features=features)"
   ]
  },
  {
   "cell_type": "code",
   "execution_count": 10,
   "id": "a234579b",
   "metadata": {},
   "outputs": [],
   "source": [
    "prepare_submission(submission_name='predict1.csv', train=train, test=test, features=features)\n",
    "#score on kaggle predict1.csv: 0.57732"
   ]
  },
  {
   "cell_type": "code",
   "execution_count": 11,
   "id": "dcd978e1",
   "metadata": {},
   "outputs": [],
   "source": [
    "#Модель 2.\n",
    "#Добавлю фичи 'AMT_INCOME_TOTAL','AMT_CREDIT','AMT_ANNUITY'"
   ]
  },
  {
   "cell_type": "code",
   "execution_count": 12,
   "id": "b666e46a",
   "metadata": {},
   "outputs": [
    {
     "name": "stdout",
     "output_type": "stream",
     "text": [
      "AMT_INCOME_TOTAL     0\n",
      "AMT_CREDIT           0\n",
      "AMT_ANNUITY         12\n",
      "dtype: int64\n",
      "AMT_INCOME_TOTAL     0\n",
      "AMT_CREDIT           0\n",
      "AMT_ANNUITY         24\n",
      "dtype: int64\n"
     ]
    }
   ],
   "source": [
    "#Смотрю кол-во пропусков\n",
    "print(train[['AMT_INCOME_TOTAL','AMT_CREDIT','AMT_ANNUITY']].isna().sum())\n",
    "print(test[['AMT_INCOME_TOTAL','AMT_CREDIT','AMT_ANNUITY']].isna().sum())"
   ]
  },
  {
   "cell_type": "code",
   "execution_count": 13,
   "id": "1e930b34",
   "metadata": {},
   "outputs": [],
   "source": [
    "train['AMT_ANNUITY'] = train['AMT_ANNUITY'].mean()\n",
    "test['AMT_ANNUITY'] = test['AMT_ANNUITY'].mean()"
   ]
  },
  {
   "cell_type": "code",
   "execution_count": 14,
   "id": "271b3bb8",
   "metadata": {},
   "outputs": [
    {
     "name": "stdout",
     "output_type": "stream",
     "text": [
      "Fold 0: AUC: 0.5203002854012232\n",
      "Fold 1: AUC: 0.519775159841079\n",
      "Fold 2: AUC: 0.5217631662607312\n",
      "Fold 3: AUC: 0.5161492633282301\n",
      "Fold 4: AUC: 0.5183710543042385\n",
      "AV_AUC = 0.5192717858271004 \n"
     ]
    },
    {
     "data": {
      "text/plain": [
       "0.5192717858271004"
      ]
     },
     "execution_count": 14,
     "metadata": {},
     "output_type": "execute_result"
    }
   ],
   "source": [
    "features=['NAME_CONTRACT_TYPE','CODE_GENDER','FLAG_OWN_CAR','FLAG_OWN_REALTY','AMT_INCOME_TOTAL','AMT_CREDIT','AMT_ANNUITY']\n",
    "cross_validation(train=train, features=features)"
   ]
  },
  {
   "cell_type": "code",
   "execution_count": 15,
   "id": "e114ac80",
   "metadata": {},
   "outputs": [],
   "source": [
    "prepare_submission(submission_name='predict2.csv', train=train, test=test, features=features)\n",
    "#score on kaggle predict2.csv: 0.51007\n",
    "#c введением трёх новых фичей модель стала хуже предсказывать"
   ]
  },
  {
   "cell_type": "code",
   "execution_count": 16,
   "id": "eb61ae6f",
   "metadata": {},
   "outputs": [],
   "source": [
    "#Модель 3\n",
    "#Стандартизирую три новые фичи из модели 2"
   ]
  },
  {
   "cell_type": "code",
   "execution_count": 17,
   "id": "0e6f022f",
   "metadata": {},
   "outputs": [],
   "source": [
    "features = ['AMT_INCOME_TOTAL','AMT_CREDIT','AMT_ANNUITY']\n",
    "StandScaler = StandardScaler()\n",
    "\n",
    "StandScaler.fit(train[features])\n",
    "train[features] = StandScaler.transform(train[features])\n",
    "test[features] = StandScaler.transform(test[features])"
   ]
  },
  {
   "cell_type": "code",
   "execution_count": 18,
   "id": "895651fa",
   "metadata": {},
   "outputs": [
    {
     "name": "stdout",
     "output_type": "stream",
     "text": [
      "Fold 0: AUC: 0.5822850314365996\n",
      "Fold 1: AUC: 0.5876041030334093\n",
      "Fold 2: AUC: 0.5787175820747193\n",
      "Fold 3: AUC: 0.5817881552938293\n",
      "Fold 4: AUC: 0.5854623743017616\n",
      "AV_AUC = 0.5831714492280639 \n"
     ]
    },
    {
     "data": {
      "text/plain": [
       "0.5831714492280639"
      ]
     },
     "execution_count": 18,
     "metadata": {},
     "output_type": "execute_result"
    }
   ],
   "source": [
    "features=['NAME_CONTRACT_TYPE','CODE_GENDER','FLAG_OWN_CAR','FLAG_OWN_REALTY','AMT_INCOME_TOTAL','AMT_CREDIT','AMT_ANNUITY']\n",
    "cross_validation(train=train, features=features)"
   ]
  },
  {
   "cell_type": "code",
   "execution_count": 19,
   "id": "123af16c",
   "metadata": {},
   "outputs": [],
   "source": [
    "prepare_submission(submission_name='predict3.csv', train=train, test=test, features=features)\n",
    "#score on kaggle predict3.csv: 0.5\n",
    "#Стандартизация фичей ['AMT_INCOME_TOTAL','AMT_CREDIT','AMT_ANNUITY'] показала значительно\n",
    "#улучшение результата на кросс-валидации по сравнению с моделью 2, однако при предсказании на тестовой выборке\n",
    "#результат стал ещё хуже"
   ]
  },
  {
   "cell_type": "code",
   "execution_count": 20,
   "id": "0357befc",
   "metadata": {},
   "outputs": [],
   "source": [
    "#Модель 4\n",
    "#В модели 4 убираю фичи, добавленные в модели 3 и добавляю фичи ['NAME_TYPE_SUITE','NAME_INCOME_TYPE']"
   ]
  },
  {
   "cell_type": "code",
   "execution_count": 22,
   "id": "eb4c75f3",
   "metadata": {},
   "outputs": [
    {
     "name": "stdout",
     "output_type": "stream",
     "text": [
      "Unaccompanied      248526\n",
      "Family              40149\n",
      "Spouse, partner     11370\n",
      "Children             3267\n",
      "Other_B              1770\n",
      "Other_A               866\n",
      "Group of people       271\n",
      "Name: NAME_TYPE_SUITE, dtype: int64\n",
      "Working                 158774\n",
      "Commercial associate     71617\n",
      "Pensioner                55362\n",
      "State servant            21703\n",
      "Unemployed                  22\n",
      "Student                     18\n",
      "Businessman                 10\n",
      "Maternity leave              5\n",
      "Name: NAME_INCOME_TYPE, dtype: int64\n",
      "Secondary / secondary special    218391\n",
      "Higher education                  74863\n",
      "Incomplete higher                 10277\n",
      "Lower secondary                    3816\n",
      "Academic degree                     164\n",
      "Name: NAME_EDUCATION_TYPE, dtype: int64\n",
      "Married                 196432\n",
      "Single / not married     45444\n",
      "Civil marriage           29775\n",
      "Separated                19770\n",
      "Widow                    16088\n",
      "Unknown                      2\n",
      "Name: NAME_FAMILY_STATUS, dtype: int64\n"
     ]
    }
   ],
   "source": [
    "#['NAME_TYPE_SUITE','NAME_INCOME_TYPE','NAME_EDUCATION_TYPE','NAME_FAMILY_STATUS','NAME_HOUSING_TYPE']\n",
    "print(train['NAME_TYPE_SUITE'].value_counts())\n",
    "print(train['NAME_INCOME_TYPE'].value_counts())\n",
    "print(train['NAME_EDUCATION_TYPE'].value_counts())\n",
    "print(train['NAME_FAMILY_STATUS'].value_counts())"
   ]
  },
  {
   "cell_type": "code",
   "execution_count": 23,
   "id": "5c3f4ebe",
   "metadata": {},
   "outputs": [],
   "source": [
    "train['NAME_TYPE_SUITE'] = train['NAME_TYPE_SUITE'].replace( { 'Unaccompanied':0,'Family':1,'Spouse, partner':2,'Children':3,'Other_B':4,'Other_A':5,'Group of people':6} ).fillna(-1)\n",
    "test['NAME_TYPE_SUITE'] = test['NAME_TYPE_SUITE'].replace( { 'Unaccompanied':0,'Family':1,'Spouse, partner':2,'Children':3,'Other_B':4,'Other_A':5,'Group of people':6} ).fillna(-1)\n",
    "\n",
    "train['NAME_INCOME_TYPE'] = train['NAME_INCOME_TYPE'].replace( { 'Working':0,'Commercial associate':1,'Pensioner':2,'State servant':3,'Unemployed':4,'Student':5,'Businessman':6,'Maternity leave':7} ).fillna(-1)\n",
    "test['NAME_INCOME_TYPE'] = test['NAME_INCOME_TYPE'].replace( { 'Working':0,'Commercial associate':1,'Pensioner':2,'State servant':3,'Unemployed':4,'Student':5,'Businessman':6,'Maternity leave':7} ).fillna(-1)"
   ]
  },
  {
   "cell_type": "code",
   "execution_count": 24,
   "id": "d281baff",
   "metadata": {},
   "outputs": [
    {
     "name": "stdout",
     "output_type": "stream",
     "text": [
      "Fold 0: AUC: 0.589793033380993\n",
      "Fold 1: AUC: 0.6014900819075049\n",
      "Fold 2: AUC: 0.5952884386851212\n",
      "Fold 3: AUC: 0.5987499762889832\n",
      "Fold 4: AUC: 0.6032726540225353\n",
      "AV_AUC = 0.5977188368570274 \n"
     ]
    },
    {
     "data": {
      "text/plain": [
       "0.5977188368570274"
      ]
     },
     "execution_count": 24,
     "metadata": {},
     "output_type": "execute_result"
    }
   ],
   "source": [
    "features=['NAME_CONTRACT_TYPE','CODE_GENDER','FLAG_OWN_CAR','FLAG_OWN_REALTY','NAME_TYPE_SUITE','NAME_INCOME_TYPE']\n",
    "cross_validation(train=train, features=features)"
   ]
  },
  {
   "cell_type": "code",
   "execution_count": 25,
   "id": "3d2b4a73",
   "metadata": {},
   "outputs": [],
   "source": [
    "prepare_submission(submission_name='predict4.csv', train=train, test=test, features=features)\n",
    "#score on kaggle predict4.csv: 0.60836\n",
    "#Добавление фичей ['NAME_TYPE_SUITE','NAME_INCOME_TYPE'] улучшило результат \n",
    "#и на кросс-валидации, и на тестовой выборке"
   ]
  },
  {
   "cell_type": "code",
   "execution_count": null,
   "id": "52a05155",
   "metadata": {},
   "outputs": [],
   "source": [
    "#В модель 5 добавлю добавлю фичи ['NAME_EDUCATION_TYPE','NAME_FAMILY_STATUS']"
   ]
  },
  {
   "cell_type": "code",
   "execution_count": 26,
   "id": "3e3d1ab7",
   "metadata": {},
   "outputs": [],
   "source": [
    "train['NAME_EDUCATION_TYPE'] = train['NAME_EDUCATION_TYPE'].replace( { 'Secondary / secondary special':0,'Higher education':1,'Incomplete higher':2,'Lower secondary':3,'Academic degree':4} ).fillna(-1)\n",
    "test['NAME_EDUCATION_TYPE'] = test['NAME_EDUCATION_TYPE'].replace( { 'Secondary / secondary special':0,'Higher education':1,'Incomplete higher':2,'Lower secondary':3,'Academic degree':4} ).fillna(-1)\n",
    "\n",
    "train['NAME_FAMILY_STATUS'] = train['NAME_FAMILY_STATUS'].replace( { 'Married':0,'Single / not married':1,'Civil marriage':2,'Separated':3,'Widow':4,'Unknown':5} ).fillna(-1)\n",
    "test['NAME_FAMILY_STATUS'] = test['NAME_FAMILY_STATUS'].replace( { 'Married':0,'Single / not married':1,'Civil marriage':2,'Separated':3,'Widow':4,'Unknown':5} ).fillna(-1)"
   ]
  },
  {
   "cell_type": "code",
   "execution_count": 27,
   "id": "5fdac394",
   "metadata": {},
   "outputs": [
    {
     "name": "stdout",
     "output_type": "stream",
     "text": [
      "Fold 0: AUC: 0.6047203362369258\n",
      "Fold 1: AUC: 0.6078169795895877\n",
      "Fold 2: AUC: 0.6079811888202786\n",
      "Fold 3: AUC: 0.6019243743622453\n",
      "Fold 4: AUC: 0.5949193622258164\n",
      "AV_AUC = 0.6034724482469708 \n"
     ]
    },
    {
     "data": {
      "text/plain": [
       "0.6034724482469708"
      ]
     },
     "execution_count": 27,
     "metadata": {},
     "output_type": "execute_result"
    }
   ],
   "source": [
    "features=['NAME_CONTRACT_TYPE','CODE_GENDER','FLAG_OWN_CAR','FLAG_OWN_REALTY','NAME_TYPE_SUITE','NAME_INCOME_TYPE','NAME_EDUCATION_TYPE','NAME_FAMILY_STATUS']\n",
    "cross_validation(train=train, features=features)"
   ]
  },
  {
   "cell_type": "code",
   "execution_count": 28,
   "id": "ae9806c9",
   "metadata": {},
   "outputs": [],
   "source": [
    "prepare_submission(submission_name='predict5.csv', train=train, test=test, features=features)\n",
    "#score on kaggle predict5.csv: 0.60897\n",
    "#Добавление фичей ['NAME_EDUCATION_TYPE','NAME_FAMILY_STATUS'] совсем немного улучшило результат \n",
    "#и на кросс-валидации, и на тестовой выборке"
   ]
  },
  {
   "cell_type": "code",
   "execution_count": 32,
   "id": "97d4f478",
   "metadata": {},
   "outputs": [
    {
     "data": {
      "image/png": "[encoded data removed]",
      "text/plain": [
       "<Figure size 432x288 with 1 Axes>"
      ]
     },
     "metadata": {
      "needs_background": "light"
     },
     "output_type": "display_data"
    }
   ],
   "source": [
    "#График зависимоти AUC на тестовой выборке от AUC на тренировочной выборке на кросс-валидации\n",
    "plt.plot([0.574, 0.519, 0.583, 0.598, 0.603], [0.577, 0.510, 0.500, 0.608, 0.609], 'ro')\n",
    "plt.axis([0.4, 0.7, 0.4, 0.7])\n",
    "plt.xlabel('AUC на тренировочной выборке на кросс-валидации')\n",
    "plt.ylabel('AUC на тестовой выборке')\n",
    "plt.title('График зависимоти AUC на тестовой выборке от AUC на тренировочной выборке на кросс-валидации')\n",
    "plt.show()"
   ]
  },
  {
   "cell_type": "code",
   "execution_count": null,
   "id": "f1ffd8ca",
   "metadata": {},
   "outputs": [],
   "source": [
    "'''\n",
    "Отчёт:\n",
    "\n",
    "Модель 1) Логистическая модель с категорийными фичами ['NAME_CONTRACT_TYPE','CODE_GENDER','FLAG_OWN_CAR','FLAG_OWN_REALTY']\n",
    "AUC на тренировочной выборке на кросс-валидации: 0.574\n",
    "AUC на тестовой выборке: 0.577\n",
    "\n",
    "Модель 2) Добавлю числовые фичи ['AMT_INCOME_TOTAL','AMT_CREDIT','AMT_ANNUITY']\n",
    "AUC на тренировочной выборке на кросс-валидации: 0.519\n",
    "AUC на тестовой выборке: 0.510\n",
    "Результаты и на кросс-валидации, и на тестовой выборке ухудшились\n",
    "\n",
    "Модель 3) Нормирую числовые фичи из модели 2\n",
    "AUC на тренировочной выборке на кросс-валидации: 0.583\n",
    "AUC на тестовой выборке: 0.500\n",
    "Нормирование числовых фичей улучшило результат на кросс-валидации, однако ухудшило его на тестовой выборке.\n",
    "\n",
    "Модель 4) Убираю числовые фичи, добавленные в модели 2 и добавляю фичи ['NAME_TYPE_SUITE','NAME_INCOME_TYPE']\n",
    "AUC на тренировочной выборке на кросс-валидации: 0.598\n",
    "AUC на тестовой выборке: 0.608\n",
    "Результаты и на кросс-валидации, и на тестовой выборке немного улудшились по сравнению с моделью 1\n",
    "\n",
    "Модель 5) Добавлю категорийные фичи ['NAME_EDUCATION_TYPE','NAME_FAMILY_STATUS']\n",
    "AUC на тренировочной выборке на кросс-валидации: 0.603\n",
    "AUC на тестовой выборке: 0.609\n",
    "Результаты и на кросс-валидации, и на тестовой выборке немного улудшились по сравнению с моделью 1\n",
    "\n",
    "\n",
    "Выводы:\n",
    "- Не всегда улучшение результата на кросс-валидации на тренировочной выборке равно улчшению результата на тестовой\n",
    "(например модель 3)\n",
    "\n",
    "'''"
   ]
  }
 ],
 "metadata": {
  "kernelspec": {
   "display_name": "Python 3",
   "language": "python",
   "name": "python3"
  },
  "language_info": {
   "codemirror_mode": {
    "name": "ipython",
    "version": 3
   },
   "file_extension": ".py",
   "mimetype": "text/x-python",
   "name": "python",
   "nbconvert_exporter": "python",
   "pygments_lexer": "ipython3",
   "version": "3.8.8"
  }
 },
 "nbformat": 4,
 "nbformat_minor": 5
}
